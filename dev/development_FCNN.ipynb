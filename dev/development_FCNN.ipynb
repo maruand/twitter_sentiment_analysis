{
 "cells": [
  {
   "cell_type": "markdown",
   "metadata": {},
   "source": [
    "# Twitter sentiment analysis"
   ]
  },
  {
   "cell_type": "markdown",
   "metadata": {},
   "source": [
    "### Install dependecies"
   ]
  },
  {
   "cell_type": "code",
   "execution_count": 128,
   "metadata": {},
   "outputs": [],
   "source": [
    "import os\n",
    "import setuptools.dist\n",
    "from kaggle.api.kaggle_api_extended import KaggleApi\n",
    "import pandas as pd\n",
    "import matplotlib.pyplot as plt\n",
    "import numpy as np\n",
    "import seaborn as sns\n",
    "from sklearn.model_selection import train_test_split\n",
    "from sklearn.metrics import accuracy_score, confusion_matrix, classification_report\n",
    "from absl import logging\n",
    "import tensorflow_hub as hub\n",
    "import tensorflow as tf\n",
    "from torch import nn\n",
    "import torch\n",
    "import torch.nn.functional as F\n",
    "from torch.utils.data import DataLoader, Dataset, TensorDataset\n",
    "from timeit import default_timer as timer \n",
    "from tqdm import tqdm"
   ]
  },
  {
   "cell_type": "code",
   "execution_count": 30,
   "metadata": {},
   "outputs": [
    {
     "name": "stderr",
     "output_type": "stream",
     "text": [
      "/Users/marcusandersson/Desktop/twitter_sentiment_analysis/.venv/lib/python3.12/site-packages/tqdm/auto.py:21: TqdmWarning: IProgress not found. Please update jupyter and ipywidgets. See https://ipywidgets.readthedocs.io/en/stable/user_install.html\n",
      "  from .autonotebook import tqdm as notebook_tqdm\n",
      "Downloading 3 files:   0%|          | 0/3 [00:00<?, ?it/s]"
     ]
    },
    {
     "name": "stdout",
     "output_type": "stream",
     "text": [
      "Downloading from https://www.kaggle.com/api/v1/models/google/universal-sentence-encoder/tensorFlow2/universal-sentence-encoder/2/download/variables/variables.data-00000-of-00001...\n"
     ]
    },
    {
     "name": "stderr",
     "output_type": "stream",
     "text": []
    },
    {
     "name": "stdout",
     "output_type": "stream",
     "text": [
      "Downloading from https://www.kaggle.com/api/v1/models/google/universal-sentence-encoder/tensorFlow2/universal-sentence-encoder/2/download/variables/variables.index...\n"
     ]
    },
    {
     "name": "stderr",
     "output_type": "stream",
     "text": [
      "\n",
      "\u001b[A"
     ]
    },
    {
     "name": "stdout",
     "output_type": "stream",
     "text": [
      "Downloading from https://www.kaggle.com/api/v1/models/google/universal-sentence-encoder/tensorFlow2/universal-sentence-encoder/2/download/saved_model.pb...\n"
     ]
    },
    {
     "name": "stderr",
     "output_type": "stream",
     "text": [
      "\n",
      "\n",
      "\u001b[A\u001b[A\n",
      "100%|██████████| 3.11k/3.11k [00:00<00:00, 13.8kB/s]\n",
      "\n",
      "\n",
      "\u001b[A\u001b[A\n",
      "\n",
      "\u001b[A\u001b[A\n",
      "\n",
      "\u001b[A\u001b[A\n",
      "\n",
      "\u001b[A\u001b[A\n",
      "\n",
      "\u001b[A\u001b[A\n",
      "\n",
      "\u001b[A\u001b[A\n",
      "\n",
      "\u001b[A\u001b[A\n",
      "\n",
      "100%|██████████| 7.84M/7.84M [00:02<00:00, 3.42MB/s]\n",
      "100%|██████████| 980M/980M [01:20<00:00, 12.7MB/s]\n",
      "Downloading 3 files: 100%|██████████| 3/3 [01:21<00:00, 27.27s/it]"
     ]
    },
    {
     "name": "stdout",
     "output_type": "stream",
     "text": [
      "Path to model files: /Users/marcusandersson/.cache/kagglehub/models/google/universal-sentence-encoder/tensorFlow2/universal-sentence-encoder/2\n"
     ]
    },
    {
     "name": "stderr",
     "output_type": "stream",
     "text": [
      "\n"
     ]
    }
   ],
   "source": [
    "import kagglehub\n",
    "\n",
    "# Download latest version\n",
    "path = kagglehub.model_download(\"google/universal-sentence-encoder/tensorFlow2/universal-sentence-encoder\")\n",
    "\n",
    "print(\"Path to model files:\", path)"
   ]
  },
  {
   "cell_type": "markdown",
   "metadata": {},
   "source": [
    "### Download dataset"
   ]
  },
  {
   "cell_type": "code",
   "execution_count": 12,
   "metadata": {},
   "outputs": [
    {
     "name": "stdout",
     "output_type": "stream",
     "text": [
      "Dataset URL: https://www.kaggle.com/datasets/jp797498e/twitter-entity-sentiment-analysis\n"
     ]
    }
   ],
   "source": [
    "# Ensure the Kaggle API credentials are set up\n",
    "os.environ['KAGGLE_CONFIG_DIR'] = os.path.expanduser('~/.kaggle')\n",
    "\n",
    "# Initialize the Kaggle API\n",
    "api = KaggleApi()\n",
    "api.authenticate()\n",
    "\n",
    "# Download the dataset\n",
    "dataset_owner = 'jp797498e/twitter-entity-sentiment-analysis'\n",
    "api.dataset_download_files(dataset_owner, path='/Users/marcusandersson/Desktop/twitter_sentiment_analysis/data', unzip=True)"
   ]
  },
  {
   "cell_type": "markdown",
   "metadata": {},
   "source": [
    "### Load data"
   ]
  },
  {
   "cell_type": "code",
   "execution_count": 13,
   "metadata": {},
   "outputs": [],
   "source": [
    "# Load the data into a pandas DataFrame\n",
    "path = '/Users/marcusandersson/Desktop/twitter_sentiment_analysis/data'\n",
    "data_df = pd.read_csv(path + '/twitter_training.csv')\n",
    "data_validation_df = pd.read_csv(path + '/twitter_validation.csv')"
   ]
  },
  {
   "cell_type": "markdown",
   "metadata": {},
   "source": [
    "### Data cleaning"
   ]
  },
  {
   "cell_type": "code",
   "execution_count": 14,
   "metadata": {},
   "outputs": [
    {
     "name": "stdout",
     "output_type": "stream",
     "text": [
      "   sentiment                                              tweet\n",
      "0          2  I am coming to the borders and I will kill you...\n",
      "1          2  im getting on borderlands and i will kill you ...\n",
      "2          2  im coming on borderlands and i will murder you...\n",
      "3          2  im getting on borderlands 2 and i will murder ...\n",
      "4          2  im getting into borderlands and i can murder y...\n"
     ]
    }
   ],
   "source": [
    "data_validation_df.columns = ['tweet_id', 'entity','sentiment','tweet']\n",
    "data_df.columns = ['tweet_id', 'entity','sentiment','tweet']\n",
    "\n",
    "# drop the tweet_id and entity columns\n",
    "data_df = data_df.drop(['tweet_id', 'entity'], axis=1)\n",
    "\n",
    "# Drop null values\n",
    "data_df = data_df.dropna()\n",
    "\n",
    "# Map the sentiment to a numerical value\n",
    "data_df['sentiment'] = data_df['sentiment'].map({'Positive': 2, 'Neutral': 1, 'Negative': 0, 'Irrelevant': 3})\n",
    "\n",
    "\n",
    "# Ensure all data typres are correct\n",
    "data_df['tweet'] = data_df['tweet'].astype(str)\n",
    "data_df['sentiment'] = data_df['sentiment'].astype(int)\n",
    "\n",
    "# Check the data\n",
    "print(data_df.head())"
   ]
  },
  {
   "cell_type": "markdown",
   "metadata": {},
   "source": [
    "### Train test split"
   ]
  },
  {
   "cell_type": "code",
   "execution_count": 84,
   "metadata": {},
   "outputs": [
    {
     "name": "stdout",
     "output_type": "stream",
     "text": [
      "Shape of training data input: torch.Size([59196, 512])\n",
      "Shape of training data targets: torch.Size([59196])\n",
      "Shape of test data input: torch.Size([14799, 512])\n",
      "Shape of test data targets: torch.Size([14799])\n"
     ]
    }
   ],
   "source": [
    "# Train test split\n",
    "train_df, test_df = train_test_split(data_df, test_size=0.2, random_state=42)\n",
    "\n",
    "# Convert to NumPy arrays\n",
    "X_train_df = train_df['tweet'].values\n",
    "y_train_df = train_df['sentiment'].values\n",
    "\n",
    "\n",
    "X_test_df = test_df['tweet'].values\n",
    "y_test_df = test_df['sentiment'].values\n",
    "\n",
    "\n",
    "# Check the data\n",
    "print(f'Shape of training data input: {X_train.shape}')\n",
    "print(f'Shape of training data targets: {y_train.shape}')\n",
    "print(f'Shape of test data input: {X_test.shape}')\n",
    "print(f'Shape of test data targets: {y_test.shape}')"
   ]
  },
  {
   "cell_type": "markdown",
   "metadata": {},
   "source": [
    "### Load Universal Sentence Encoder model"
   ]
  },
  {
   "cell_type": "code",
   "execution_count": 31,
   "metadata": {},
   "outputs": [],
   "source": [
    "# Load the model\n",
    "embed = hub.load(path)"
   ]
  },
  {
   "cell_type": "markdown",
   "metadata": {},
   "source": [
    "### Produce embeddings"
   ]
  },
  {
   "cell_type": "code",
   "execution_count": 32,
   "metadata": {},
   "outputs": [
    {
     "name": "stdout",
     "output_type": "stream",
     "text": [
      "Shape of training dataset input: (59196, 512)\n",
      "Data type of training dataset input: <class 'tensorflow.python.framework.ops.EagerTensor'>\n",
      "Shape of test dataset input: (14799, 512)\n",
      "Data type of test dataset input: <class 'tensorflow.python.framework.ops.EagerTensor'>\n"
     ]
    }
   ],
   "source": [
    "# Compute embeddings\n",
    "X_train_TF= embed(X_train_df)\n",
    "X_test_TF = embed(X_test_df)\n",
    "\n",
    "print(f'Shape of training dataset input: {X_train_TF.shape}')\n",
    "print(f'Data type of training dataset input: {type(X_train_TF)}')\n",
    "\n",
    "print(f'Shape of test dataset input: {X_test_TF.shape}')\n",
    "print(f'Data type of test dataset input: {type(X_test_TF)}')"
   ]
  },
  {
   "cell_type": "markdown",
   "metadata": {},
   "source": [
    "### Convert to pyTorch tensor"
   ]
  },
  {
   "cell_type": "code",
   "execution_count": 36,
   "metadata": {},
   "outputs": [
    {
     "name": "stdout",
     "output_type": "stream",
     "text": [
      "Shape of training dataset input: torch.Size([59196, 512])\n",
      "Data type of training dataset input: <class 'torch.Tensor'>\n",
      "Shape of test dataset input: torch.Size([14799, 512])\n",
      "Data type of test dataset input: <class 'torch.Tensor'>\n"
     ]
    }
   ],
   "source": [
    "X_train_np = X_train_TF.numpy()\n",
    "X_test_np = X_test_TF.numpy()\n",
    "\n",
    "# Convert to PyTorch tensors\n",
    "X_train = torch.tensor(X_train_np)\n",
    "X_test = torch.tensor(X_test_np)\n",
    "\n",
    "y_train = y_train_df.clone().detach()\n",
    "y_test = y_test_df.clone().detach()\n",
    "\n",
    "# Check the data\n",
    "print(f'Shape of training dataset input: {X_train.shape}')\n",
    "print(f'Data type of training dataset input: {type(X_train)}')\n",
    "\n",
    "print(f'Shape of test dataset input: {X_test.shape}')\n",
    "print(f'Data type of test dataset input: {type(X_test)}')\n",
    "\n"
   ]
  },
  {
   "cell_type": "markdown",
   "metadata": {},
   "source": [
    "### Accuracy function"
   ]
  },
  {
   "cell_type": "code",
   "execution_count": 37,
   "metadata": {},
   "outputs": [],
   "source": [
    "def accuracy(y_pred, y_true):\n",
    "    correct = torch.eq(y_pred, y_true).sum().item()\n",
    "    acc = correct / y_true.size(0)\n",
    "    return acc"
   ]
  },
  {
   "cell_type": "markdown",
   "metadata": {},
   "source": [
    "### Training loop function"
   ]
  },
  {
   "cell_type": "code",
   "execution_count": 77,
   "metadata": {},
   "outputs": [],
   "source": [
    "def train(n_epochs, model, lr, X_train, y_train, X_test, y_test):\n",
    "    # Define the loss function\n",
    "    loss_fn = nn.CrossEntropyLoss()\n",
    "\n",
    "    # Define the optimizer\n",
    "    optimizer = torch.optim.Adam(model.parameters(), lr=lr)\n",
    "\n",
    "    # Initialize arrays to store loss and accuracy\n",
    "    train_losses = np.zeros(n_epochs)\n",
    "    test_losses = np.zeros(n_epochs)\n",
    "    train_accuracies = np.zeros(n_epochs)\n",
    "    test_accuracies = np.zeros(n_epochs)\n",
    "    epochs = np.zeros(n_epochs)\n",
    "\n",
    "    ### Training loop\n",
    "    model.train()\n",
    "    for epoch in range(n_epochs):\n",
    "        # Forward pass\n",
    "\n",
    "        y_logits = model(X_train)\n",
    "        y_pred = F.softmax(y_logits, dim=0).argmax(dim=1)\n",
    "\n",
    "        # Compute the loss and accuracy\n",
    "        train_loss = loss_fn(y_logits, y_train)\n",
    "        train_acc = accuracy(y_pred, y_train)\n",
    "\n",
    "        # Store the loss and accuracy\n",
    "        train_losses[epoch] = train_loss.item()\n",
    "        train_accuracies[epoch] = train_acc\n",
    "\n",
    "        # Zero gradients\n",
    "        optimizer.zero_grad()\n",
    "\n",
    "        # Bckward pass\n",
    "        train_loss.backward()\n",
    "\n",
    "        # Update the weights\n",
    "        optimizer.step() \n",
    "\n",
    "        ### Test loop\n",
    "\n",
    "        model.eval()\n",
    "\n",
    "        with torch.inference_mode():\n",
    "            y_logits = model(X_test)\n",
    "            y_pred = F.softmax(y_logits, dim=1).argmax(dim=1)\n",
    "\n",
    "            test_loss = loss_fn(y_logits, y_test)\n",
    "            test_acc = accuracy(y_pred, y_test)\n",
    "\n",
    "            # Store the loss and accuracy\n",
    "            test_losses[epoch] = test_loss.item()\n",
    "            test_accuracies[epoch] = test_acc\n",
    "            epochs[epoch] = epoch\n",
    "        if epoch % 10 == 0:\n",
    "            print(f'Epoch {epoch}| train loss: {train_loss.item():.4f}, train acc: {train_acc:.4f}| test loss: {test_loss.item():.4f}, test acc: {test_acc:.4f}')\n",
    "\n",
    "    return train_losses, test_losses, train_accuracies, test_accuracies, epochs\n",
    "    \n",
    "        \n",
    "    \n",
    "\n"
   ]
  },
  {
   "cell_type": "markdown",
   "metadata": {},
   "source": [
    "### Sentiment analysisi model"
   ]
  },
  {
   "cell_type": "code",
   "execution_count": 99,
   "metadata": {},
   "outputs": [],
   "source": [
    "class SentimentAnalysisModel(nn.Module):\n",
    "    def __init__(self):\n",
    "        super().__init__()\n",
    "\n",
    "        self.fc1 = nn.Linear(512, 256)\n",
    "        self.fc2 = nn.Linear(256, 128)\n",
    "        #self.fc3 = nn.Linear(128, 64)\n",
    "        self.fc4 = nn.Linear(128, 4)\n",
    "\n",
    "        self.dropout = nn.Dropout(0.2)\n",
    "\n",
    "        self.relu = nn.ReLU()\n",
    "        \n",
    "    def forward(self, x):\n",
    "        x = self.fc1(x)\n",
    "        x = self.relu(x)\n",
    "        x = self.fc2(x)\n",
    "        x = self.relu(x)\n",
    "        #x = self.fc3(x)\n",
    "        #x = self.relu(x)\n",
    "        x = self.fc4(x)\n",
    "\n",
    "        return x\n",
    "\n"
   ]
  },
  {
   "cell_type": "code",
   "execution_count": 118,
   "metadata": {},
   "outputs": [],
   "source": [
    "model = SentimentAnalysisModel()"
   ]
  },
  {
   "cell_type": "markdown",
   "metadata": {},
   "source": [
    "### Function to plot loss and accuracy"
   ]
  },
  {
   "cell_type": "code",
   "execution_count": 101,
   "metadata": {},
   "outputs": [],
   "source": [
    "def plot_loss(train_loss, test_loss, epochs):\n",
    "    plt.plot(epochs, train_loss, label='train loss')\n",
    "    plt.plot(epochs, test_loss, label='test loss')\n",
    "    plt.xlabel('Epochs')\n",
    "    plt.ylabel('Loss')\n",
    "    plt.legend()\n",
    "    plt.show()"
   ]
  },
  {
   "cell_type": "markdown",
   "metadata": {},
   "source": [
    "### Train model"
   ]
  },
  {
   "cell_type": "code",
   "execution_count": 119,
   "metadata": {},
   "outputs": [
    {
     "name": "stdout",
     "output_type": "stream",
     "text": [
      "Epoch 0| train loss: 1.3884, train acc: 0.2119| test loss: 1.3862, test acc: 0.3016\n",
      "Epoch 10| train loss: 1.3666, train acc: 0.5028| test loss: 1.3647, test acc: 0.3016\n",
      "Epoch 20| train loss: 1.3287, train acc: 0.5127| test loss: 1.3263, test acc: 0.3523\n",
      "Epoch 30| train loss: 1.2664, train acc: 0.5248| test loss: 1.2652, test acc: 0.4796\n",
      "Epoch 40| train loss: 1.1868, train acc: 0.5358| test loss: 1.1892, test acc: 0.5217\n",
      "Epoch 50| train loss: 1.1132, train acc: 0.5434| test loss: 1.1223, test acc: 0.5325\n",
      "Epoch 60| train loss: 1.0675, train acc: 0.5424| test loss: 1.0833, test acc: 0.5413\n",
      "Epoch 70| train loss: 1.0402, train acc: 0.5460| test loss: 1.0599, test acc: 0.5548\n",
      "Epoch 80| train loss: 1.0195, train acc: 0.5493| test loss: 1.0417, test acc: 0.5673\n",
      "Epoch 90| train loss: 1.0065, train acc: 0.5506| test loss: 1.0302, test acc: 0.5720\n",
      "Epoch 100| train loss: 0.9968, train acc: 0.5544| test loss: 1.0218, test acc: 0.5769\n",
      "Epoch 110| train loss: 0.9882, train acc: 0.5598| test loss: 1.0146, test acc: 0.5811\n",
      "Epoch 120| train loss: 0.9800, train acc: 0.5636| test loss: 1.0080, test acc: 0.5825\n",
      "Epoch 130| train loss: 0.9718, train acc: 0.5670| test loss: 1.0016, test acc: 0.5855\n",
      "Epoch 140| train loss: 0.9630, train acc: 0.5705| test loss: 0.9951, test acc: 0.5880\n",
      "Epoch 150| train loss: 0.9536, train acc: 0.5746| test loss: 0.9882, test acc: 0.5904\n",
      "Epoch 160| train loss: 0.9432, train acc: 0.5789| test loss: 0.9808, test acc: 0.5941\n",
      "Epoch 170| train loss: 0.9317, train acc: 0.5833| test loss: 0.9727, test acc: 0.5986\n",
      "Epoch 180| train loss: 0.9188, train acc: 0.5877| test loss: 0.9637, test acc: 0.6031\n",
      "Epoch 190| train loss: 0.9042, train acc: 0.5930| test loss: 0.9537, test acc: 0.6086\n",
      "Epoch 200| train loss: 0.8879, train acc: 0.6008| test loss: 0.9425, test acc: 0.6131\n",
      "Epoch 210| train loss: 0.8693, train acc: 0.6094| test loss: 0.9299, test acc: 0.6197\n",
      "Epoch 220| train loss: 0.8484, train acc: 0.6194| test loss: 0.9160, test acc: 0.6254\n",
      "Epoch 230| train loss: 0.8249, train acc: 0.6317| test loss: 0.9006, test acc: 0.6329\n",
      "Epoch 240| train loss: 0.7989, train acc: 0.6446| test loss: 0.8838, test acc: 0.6407\n",
      "Epoch 250| train loss: 0.7703, train acc: 0.6597| test loss: 0.8657, test acc: 0.6517\n",
      "Epoch 260| train loss: 0.7393, train acc: 0.6748| test loss: 0.8463, test acc: 0.6603\n",
      "Epoch 270| train loss: 0.7065, train acc: 0.6910| test loss: 0.8266, test acc: 0.6688\n",
      "Epoch 280| train loss: 0.6724, train acc: 0.7069| test loss: 0.8059, test acc: 0.6792\n",
      "Epoch 290| train loss: 0.6372, train acc: 0.7226| test loss: 0.7852, test acc: 0.6871\n",
      "Epoch 300| train loss: 0.6011, train acc: 0.7390| test loss: 0.7641, test acc: 0.6966\n",
      "Epoch 310| train loss: 0.5665, train acc: 0.7560| test loss: 0.7453, test acc: 0.7051\n",
      "Epoch 320| train loss: 0.5328, train acc: 0.7693| test loss: 0.7260, test acc: 0.7137\n",
      "Epoch 330| train loss: 0.5004, train acc: 0.7832| test loss: 0.7088, test acc: 0.7222\n",
      "Epoch 340| train loss: 0.4690, train acc: 0.7956| test loss: 0.6918, test acc: 0.7314\n",
      "Epoch 350| train loss: 0.4384, train acc: 0.8064| test loss: 0.6755, test acc: 0.7384\n",
      "Epoch 360| train loss: 0.4092, train acc: 0.8177| test loss: 0.6610, test acc: 0.7455\n",
      "Epoch 370| train loss: 0.3817, train acc: 0.8255| test loss: 0.6469, test acc: 0.7524\n",
      "Epoch 380| train loss: 0.3563, train acc: 0.8357| test loss: 0.6362, test acc: 0.7588\n",
      "Epoch 390| train loss: 0.3323, train acc: 0.8423| test loss: 0.6254, test acc: 0.7636\n",
      "Epoch 400| train loss: 0.3101, train acc: 0.8495| test loss: 0.6170, test acc: 0.7682\n",
      "Epoch 410| train loss: 0.2894, train acc: 0.8555| test loss: 0.6095, test acc: 0.7726\n",
      "Epoch 420| train loss: 0.2701, train acc: 0.8610| test loss: 0.6036, test acc: 0.7756\n",
      "Epoch 430| train loss: 0.2525, train acc: 0.8651| test loss: 0.5980, test acc: 0.7798\n",
      "Epoch 440| train loss: 0.2365, train acc: 0.8686| test loss: 0.5947, test acc: 0.7825\n",
      "Epoch 450| train loss: 0.2215, train acc: 0.8713| test loss: 0.5919, test acc: 0.7850\n",
      "Epoch 460| train loss: 0.2075, train acc: 0.8734| test loss: 0.5894, test acc: 0.7875\n",
      "Epoch 470| train loss: 0.1946, train acc: 0.8757| test loss: 0.5876, test acc: 0.7899\n",
      "Epoch 480| train loss: 0.1825, train acc: 0.8772| test loss: 0.5869, test acc: 0.7921\n",
      "Epoch 490| train loss: 0.1713, train acc: 0.8782| test loss: 0.5866, test acc: 0.7940\n"
     ]
    },
    {
     "data": {
      "image/png": "[encoded data removed]",
      "text/plain": [
       "<Figure size 640x480 with 1 Axes>"
      ]
     },
     "metadata": {},
     "output_type": "display_data"
    }
   ],
   "source": [
    "NUM_EPOCHS = 500\n",
    "LR = 5e-4\n",
    "\n",
    "train_losses, test_losses, train_accuracies, test_accuracies, epochs = train(NUM_EPOCHS, model, LR, X_train, y_train, X_test, y_test)\n",
    "\n",
    "plot_loss(train_losses, test_losses, epochs)"
   ]
  },
  {
   "cell_type": "markdown",
   "metadata": {},
   "source": [
    "### Make some predictions"
   ]
  },
  {
   "cell_type": "code",
   "execution_count": 87,
   "metadata": {},
   "outputs": [],
   "source": [
    "def sentiment(pred):\n",
    "    if pred == 0:\n",
    "        return 'Negative'\n",
    "    elif pred == 1:\n",
    "        return 'Neutral'\n",
    "    elif pred == 2:\n",
    "        return 'Positive'\n",
    "    elif pred == 3:\n",
    "        return 'Irrelevant'"
   ]
  },
  {
   "cell_type": "code",
   "execution_count": 120,
   "metadata": {},
   "outputs": [
    {
     "name": "stdout",
     "output_type": "stream",
     "text": [
      "Tweet: FACTS WHO TALK THAT SHIT SO MUCH THEY DONT NOTICE... | Predicted: Neutral, Actual: Neutral\n",
      "Tweet: Damn what ps5 ’ s first L bug that I ’ ve seen, I ... | Predicted: Neutral, Actual: Neutral\n",
      "Tweet: @Battlefield @ea  . Why the story mode is so limit... | Predicted: Neutral, Actual: Neutral\n",
      "Tweet: When you tell me you don't have a girlfriend but y... | Predicted: Positive, Actual: Positive\n",
      "Tweet: Imagine, it's a shame @ Beluba @ Ronal2k @ Nba2k..... | Predicted: Negative, Actual: Negative\n",
      "Tweet: As This was a close class one, really close!. Toni... | Predicted: Irrelevant, Actual: Neutral\n",
      "Tweet: This is the last time I waste my time with Dota 2... | Predicted: Negative, Actual: Negative\n",
      "Tweet: were going to stream but got so tired this morning... | Predicted: Neutral, Actual: Neutral\n",
      "Tweet: This would be an amazing casting, and yet somehow,... | Predicted: Neutral, Actual: Neutral\n",
      "Tweet: Zelda 2. @EAMaddenNFL 94. Golden Eye. Final Fantas... | Predicted: Positive, Actual: Positive\n"
     ]
    }
   ],
   "source": [
    "y_logits = model(X_test)\n",
    "y_pred = F.softmax(y_logits, dim=0).argmax(dim=1)\n",
    "for i in range(10):\n",
    "    random_index = np.random.randint(0, X_test.size(0))\n",
    "    tweet = X_test_df[random_index]\n",
    "    print(f'Tweet: {tweet[:50]}... | Predicted: {sentiment(y_pred[random_index])}, Actual: {sentiment(y_test[random_index])}')"
   ]
  },
  {
   "cell_type": "markdown",
   "metadata": {},
   "source": [
    "### Plot classification metrics"
   ]
  },
  {
   "cell_type": "markdown",
   "metadata": {},
   "source": [
    "#### Confusion matrix"
   ]
  },
  {
   "cell_type": "code",
   "execution_count": 133,
   "metadata": {},
   "outputs": [
    {
     "data": {
      "image/png": "[encoded data removed]",
      "text/plain": [
       "<Figure size 500x400 with 2 Axes>"
      ]
     },
     "metadata": {},
     "output_type": "display_data"
    }
   ],
   "source": [
    "confusion_mat = confusion_matrix(y_test, y_pred)\n",
    "\n",
    "plt.figure(figsize=(5, 4))\n",
    "sns.heatmap(confusion_mat, annot=True, fmt='d', cmap='Blues', xticklabels=['Negative', 'Neutral', 'Positive', 'Irrelevant'], yticklabels=['Negative', 'Neutral', 'Positive', 'Irrelevant'])\n",
    "plt.xlabel('Predicted')\n",
    "plt.ylabel('Actual')\n",
    "\n",
    "plt.suptitle('Sentiment Analysis Confusion Matrix')\n",
    "plt.show()"
   ]
  },
  {
   "cell_type": "code",
   "execution_count": 135,
   "metadata": {},
   "outputs": [
    {
     "name": "stdout",
     "output_type": "stream",
     "text": [
      "              precision    recall  f1-score   support\n",
      "\n",
      "    Negative       0.90      0.64      0.75      4463\n",
      "     Neutral       0.87      0.61      0.72      3589\n",
      "    Positive       0.59      0.93      0.72      4123\n",
      "  Irrelevant       0.73      0.73      0.73      2624\n",
      "\n",
      "    accuracy                           0.73     14799\n",
      "   macro avg       0.77      0.73      0.73     14799\n",
      "weighted avg       0.78      0.73      0.73     14799\n",
      "\n"
     ]
    }
   ],
   "source": [
    "classification_rep = classification_report(y_test, y_pred, target_names=['Negative', 'Neutral', 'Positive', 'Irrelevant'])\n",
    "print(classification_rep)"
   ]
  },
  {
   "cell_type": "code",
   "execution_count": null,
   "metadata": {},
   "outputs": [],
   "source": []
  }
 ],
 "metadata": {
  "kernelspec": {
   "display_name": ".venv",
   "language": "python",
   "name": "python3"
  },
  "language_info": {
   "codemirror_mode": {
    "name": "ipython",
    "version": 3
   },
   "file_extension": ".py",
   "mimetype": "text/x-python",
   "name": "python",
   "nbconvert_exporter": "python",
   "pygments_lexer": "ipython3",
   "version": "3.12.7"
  }
 },
 "nbformat": 4,
 "nbformat_minor": 2
}
